{
 "cells": [
  {
   "cell_type": "code",
   "execution_count": 1,
   "id": "1ba38861",
   "metadata": {},
   "outputs": [],
   "source": [
    "import numpy as np\n",
    "from scipy.special import genlaguerre\n",
    "\n",
    "def generate_laguerre_polynomials(num_terms):\n",
    "    # Generate Laguerre polynomials up to the specified number of terms\n",
    "    laguerre_polynomials = [genlaguerre(n - 1, 1) for n in range(1, num_terms + 1)]\n",
    "    return laguerre_polynomials\n",
    "def hinv(hx, laguerre_polynomials, num_terms=100):\n",
    "    logeps = np.zeros_like(hx)  # Initialize eps as an array of zeros with the same shape as hx\n",
    "\n",
    "    # Conditions for different ranges of hx\n",
    "    cond1 = hx < 1.076\n",
    "    cond2 = hx > 5\n",
    "    cond3 = ~cond1 & ~cond2  # hx between 1.06 and 5\n",
    "\n",
    "    # Apply the first condition\n",
    "    logeps[cond1] = np.log(1 - np.sqrt(((637875 * hx[cond1] + np.sqrt((637875 * hx[cond1] - 557172)**2 + 5833096416) - 557172)**(1/3) / (45 * 2**(1/3)) - (126 * 2**(1/3)) / (5 * (637875 * hx[cond1] + np.sqrt((637875 * hx[cond1] - 557172)**2 + 5833096416) - 557172)**(1/3)) - 7/15)))\n",
    "\n",
    "    # Apply the second condition\n",
    "    logeps[cond2] = np.log(2) - 2 * hx[cond2]\n",
    "\n",
    "    # Apply the third condition using a vectorized approach\n",
    "    hx_cond3 = hx[cond3]\n",
    "    logeps_cond3 = np.zeros_like(hx_cond3)\n",
    "    for n in range(num_terms):\n",
    "        L_n_minus_1_1 = laguerre_polynomials[n]  # Use precomputed Laguerre polynomial\n",
    "        term = -(-1) ** (n + 1) * (2 * np.exp(-2 * hx_cond3 * (n + 1)) / (n + 1)) * L_n_minus_1_1(4 * hx_cond3 * (n + 1))\n",
    "        logeps_cond3 += term\n",
    "    logeps_cond3 = np.log(logeps_cond3)\n",
    "    logeps[cond3] = logeps_cond3\n",
    "\n",
    "    return logeps"
   ]
  },
  {
   "cell_type": "code",
   "execution_count": 9,
   "id": "308e31c6",
   "metadata": {},
   "outputs": [
    {
     "name": "stdout",
     "output_type": "stream",
     "text": [
      "0.99999 0.9999900011705504\n"
     ]
    }
   ],
   "source": [
    "# Generate Laguerre polynomials\n",
    "num_terms = 100\n",
    "laguerre_polynomials = generate_laguerre_polynomials(num_terms)\n",
    "\n",
    "#Verify that it returns the correct inverse\n",
    "z=0.99999\n",
    "hz=np.arctanh(z)/(z)\n",
    "logepsZvec = hinv(hz, laguerre_polynomials)\n",
    "epsZvec = np.exp(logepsZvec)\n",
    "zvec = 1 - epsZvec\n",
    "\n",
    "print(z, zvec)"
   ]
  },
  {
   "cell_type": "code",
   "execution_count": null,
   "id": "ac0773e8",
   "metadata": {},
   "outputs": [],
   "source": []
  }
 ],
 "metadata": {
  "kernelspec": {
   "display_name": "Python 3 (ipykernel)",
   "language": "python",
   "name": "python3"
  },
  "language_info": {
   "codemirror_mode": {
    "name": "ipython",
    "version": 3
   },
   "file_extension": ".py",
   "mimetype": "text/x-python",
   "name": "python",
   "nbconvert_exporter": "python",
   "pygments_lexer": "ipython3",
   "version": "3.10.8"
  }
 },
 "nbformat": 4,
 "nbformat_minor": 5
}
